{
 "cells": [
  {
   "cell_type": "markdown",
   "id": "fda52ffb",
   "metadata": {},
   "source": [
    "Q1. Explain why we have to use the Exception class while creating a Custom Exception.\n",
    "\n",
    "\n",
    "Ans:- \n",
    "\n",
    "__To improve readability of your code.__\n",
    "\n",
    "__To enhance reusability of feature__\n",
    "__To provide custom messages/instructions to users for specific use cases.__\n",
    "\n",
    "\n",
    "\n",
    "\n",
    "`When creating a custom exception in Python, you typically inherit from the built-in\n",
    "Exception class or one of its subclasses.`\n",
    "\n",
    "\n",
    "\n",
    "`custom exception becomes part of the same hierarchy as other exceptions. This helps maintain consistency in the exception structure and allows you to use a common pattern when handling exceptions.`\n"
   ]
  },
  {
   "cell_type": "markdown",
   "id": "8e21cf3b",
   "metadata": {},
   "source": [
    "Q2. Write a python program to print Python Exception Hierarchy."
   ]
  },
  {
   "cell_type": "code",
   "execution_count": 2,
   "id": "b73ac3bf",
   "metadata": {},
   "outputs": [
    {
     "name": "stdout",
     "output_type": "stream",
     "text": [
      "Enter the numerator: 10\n",
      "Enter the denominator: 8\n",
      "Result: 1.25\n"
     ]
    }
   ],
   "source": [
    "#Division by Zero Exception:\n",
    "\n",
    "\n",
    "class DivisionByZeroError(Exception):\n",
    "    def __init__(self, numerator):\n",
    "        self.numerator = numerator\n",
    "        super().__init__(f\"Division by zero attempted with numerator: {numerator}\")\n",
    "\n",
    "def divide(a, b):\n",
    "    if b == 0:\n",
    "        raise DivisionByZeroError(a)\n",
    "    return a / b\n",
    "\n",
    "try:\n",
    "    numerator = float(input(\"Enter the numerator: \"))\n",
    "    denominator = float(input(\"Enter the denominator: \"))\n",
    "    result = divide(numerator, denominator)\n",
    "    print(f\"Result: {result}\")\n",
    "except DivisionByZeroError as e:\n",
    "    print(f\"Error: {e}\")\n"
   ]
  },
  {
   "cell_type": "code",
   "execution_count": 3,
   "id": "15eacaab",
   "metadata": {},
   "outputs": [
    {
     "name": "stdout",
     "output_type": "stream",
     "text": [
      "Enter the filename: EXCEPTION HANDLING\n",
      "Error: Error reading file: EXCEPTION HANDLING\n"
     ]
    }
   ],
   "source": [
    "class FileReadError(Exception):\n",
    "    def __init__(self, filename):\n",
    "        self.filename = filename\n",
    "        super().__init__(f\"Error reading file: {filename}\")\n",
    "\n",
    "def read_file(filename):\n",
    "    try:\n",
    "        with open(filename, \"r\") as file:\n",
    "            content = file.read()\n",
    "        return content\n",
    "    except FileNotFoundError:\n",
    "        raise FileReadError(filename)\n",
    "\n",
    "try:\n",
    "    filename = input(\"Enter the filename: \")\n",
    "    file_content = read_file(filename)\n",
    "    print(\"File content:\")\n",
    "    print(file_content)\n",
    "except FileReadError as e:\n",
    "    print(f\"Error: {e}\")\n"
   ]
  },
  {
   "cell_type": "code",
   "execution_count": null,
   "id": "b57853e5",
   "metadata": {},
   "outputs": [],
   "source": []
  },
  {
   "cell_type": "markdown",
   "id": "111b4639",
   "metadata": {},
   "source": [
    "Q3. What errors are defined in the ArithmeticError class? Explain any two with an example.\n",
    "\n",
    "\n",
    "\n",
    "Ans:- The ArithmeticError class in Python is the base class for exceptions related to arithmetic operations. It encompasses various arithmetic-related errors. Two notable exceptions derived from 'ArithmeticError' are 'ZeroDivisionError' and 'OverflowError'."
   ]
  },
  {
   "cell_type": "code",
   "execution_count": 6,
   "id": "dbce4175",
   "metadata": {},
   "outputs": [
    {
     "name": "stdout",
     "output_type": "stream",
     "text": [
      "Error: division by zero\n"
     ]
    }
   ],
   "source": [
    "#ZERODIVISIONERROR\n",
    "\n",
    "\n",
    "try:\n",
    "    result = 10 / 0\n",
    "    print(\"Result:\")\n",
    "except ZeroDivisionError as e:\n",
    "    print(\"Error:\", e)\n"
   ]
  },
  {
   "cell_type": "code",
   "execution_count": 7,
   "id": "af991259",
   "metadata": {},
   "outputs": [
    {
     "name": "stdout",
     "output_type": "stream",
     "text": [
      "5.0\n",
      "25.0\n",
      "15625.0\n",
      "5.960464477539062e+16\n",
      "7.52316384526264e+83\n"
     ]
    },
    {
     "ename": "OverflowError",
     "evalue": "(34, 'Result too large')",
     "output_type": "error",
     "traceback": [
      "\u001b[1;31m---------------------------------------------------------------------------\u001b[0m",
      "\u001b[1;31mOverflowError\u001b[0m                             Traceback (most recent call last)",
      "Cell \u001b[1;32mIn[7], line 7\u001b[0m\n\u001b[0;32m      4\u001b[0m j \u001b[38;5;241m=\u001b[39m \u001b[38;5;241m5.0\u001b[39m\n\u001b[0;32m      6\u001b[0m \u001b[38;5;28;01mfor\u001b[39;00m i \u001b[38;5;129;01min\u001b[39;00m \u001b[38;5;28mrange\u001b[39m(\u001b[38;5;241m1\u001b[39m, \u001b[38;5;241m1000\u001b[39m):\n\u001b[1;32m----> 7\u001b[0m     j \u001b[38;5;241m=\u001b[39m \u001b[43mj\u001b[49m\u001b[38;5;241;43m*\u001b[39;49m\u001b[38;5;241;43m*\u001b[39;49m\u001b[43mi\u001b[49m\n\u001b[0;32m      8\u001b[0m     \u001b[38;5;28mprint\u001b[39m(j)\n",
      "\u001b[1;31mOverflowError\u001b[0m: (34, 'Result too large')"
     ]
    }
   ],
   "source": [
    "#OVERFLOWERROR\n",
    "\n",
    "\n",
    "j = 5.0\n",
    "\n",
    "for i in range(1, 1000):\n",
    "    j = j**i\n",
    "    print(j)"
   ]
  },
  {
   "cell_type": "markdown",
   "id": "3a05d9b8",
   "metadata": {},
   "source": [
    "As you can see, when you are trying to calculate the exponent of a floating point number, it fails at a certain stage with OverflowError exception. You can handle this error using the OverflowError Exception class in Python."
   ]
  },
  {
   "cell_type": "code",
   "execution_count": 8,
   "id": "0c6bcc05",
   "metadata": {},
   "outputs": [
    {
     "name": "stdout",
     "output_type": "stream",
     "text": [
      "5.0\n",
      "25.0\n",
      "15625.0\n",
      "5.960464477539062e+16\n",
      "7.52316384526264e+83\n",
      "Overflow error happened\n",
      "(34, 'Result too large'), <class 'OverflowError'>\n"
     ]
    }
   ],
   "source": [
    "j = 5.0\n",
    "\n",
    "try:\n",
    "    for i in range(1, 1000):\n",
    "        j = j**i\n",
    "        print(j)\n",
    "except OverflowError as e:\n",
    "    print(\"Overflow error happened\")\n",
    "    print(f\"{e}, {e.__class__}\")"
   ]
  },
  {
   "cell_type": "code",
   "execution_count": 9,
   "id": "a4faa0c1",
   "metadata": {},
   "outputs": [
    {
     "name": "stdout",
     "output_type": "stream",
     "text": [
      "Its an Overflow error, please check.\n"
     ]
    }
   ],
   "source": [
    "n = 8.0\n",
    "try: \n",
    "    for i in range(1, 100):\n",
    "        n = n ** i\n",
    "except OverflowError as e:\n",
    "    print('Its an Overflow error, please check.')"
   ]
  },
  {
   "cell_type": "markdown",
   "id": "7d96d158",
   "metadata": {},
   "source": [
    "Q4. Why LookupError class is used? Explain with an example KeyError and IndexError.\n",
    "\n",
    "\n",
    "\n",
    "Ans:- The LookupError class in Python is a base class for exceptions that occur when you attempt to access an item using a key or an index, but the item doesn't exist or the index is out of range. It's a parent class for more specific exceptions like KeyError and IndexError."
   ]
  },
  {
   "cell_type": "code",
   "execution_count": 10,
   "id": "5d0b2d3e",
   "metadata": {},
   "outputs": [
    {
     "name": "stdout",
     "output_type": "stream",
     "text": [
      "Error: 'grape'\n"
     ]
    }
   ],
   "source": [
    "## 1.key Error\n",
    "\n",
    "\n",
    "my_dict = {\"apple\": 3, \"banana\": 5, \"orange\": 2}\n",
    "\n",
    "try:\n",
    "    count = my_dict[\"grape\"]\n",
    "    print(\"Count:\", count)\n",
    "except KeyError as e:\n",
    "    print(\"Error:\", e)\n"
   ]
  },
  {
   "cell_type": "markdown",
   "id": "81df1f31",
   "metadata": {},
   "source": [
    "`In this example, we're trying to access the value associated with the key \"grape\" in the my_dict dictionary. Since the key \"grape\" doesn't exist, a KeyError is raised with the specific key that caused the error.`"
   ]
  },
  {
   "cell_type": "code",
   "execution_count": 11,
   "id": "34dd31b6",
   "metadata": {},
   "outputs": [
    {
     "name": "stdout",
     "output_type": "stream",
     "text": [
      "Error: list index out of range\n"
     ]
    }
   ],
   "source": [
    "# 2. Index Error\n",
    "\n",
    "\n",
    "my_list = [10, 20, 30]\n",
    "\n",
    "try:\n",
    "    value = my_list[5]\n",
    "    print(\"Value:\", value)\n",
    "except IndexError as e:\n",
    "    print(\"Error:\", e)\n"
   ]
  },
  {
   "cell_type": "markdown",
   "id": "db7aff05",
   "metadata": {},
   "source": [
    "`In this example, we're trying to access the value at index 5 in the my_list list. However, since the list has only three elements (with indices 0, 1, and 2), accessing index 5 results in an IndexError due to being out of range.`"
   ]
  },
  {
   "cell_type": "code",
   "execution_count": null,
   "id": "aa754122",
   "metadata": {},
   "outputs": [],
   "source": []
  },
  {
   "cell_type": "markdown",
   "id": "d2b97f5c",
   "metadata": {},
   "source": [
    "### `Q5. Explain ImportError. What is ModuleNotFoundError?`"
   ]
  },
  {
   "cell_type": "markdown",
   "id": "71ce87d0",
   "metadata": {},
   "source": [
    "In Python, ImportError occurs when the Python program tries to import module which does not exist in the private table. This exception can be avoided using exception handling using try and except blocks. We also saw examples of how the ImportError occurs and how it is handled in previous ASSI."
   ]
  },
  {
   "cell_type": "code",
   "execution_count": 16,
   "id": "fab5478f",
   "metadata": {},
   "outputs": [
    {
     "ename": "ModuleNotFoundError",
     "evalue": "No module named 'nompy'",
     "output_type": "error",
     "traceback": [
      "\u001b[1;31m---------------------------------------------------------------------------\u001b[0m",
      "\u001b[1;31mModuleNotFoundError\u001b[0m                       Traceback (most recent call last)",
      "Cell \u001b[1;32mIn[16], line 1\u001b[0m\n\u001b[1;32m----> 1\u001b[0m \u001b[38;5;28;01mimport\u001b[39;00m \u001b[38;5;21;01mnompy\u001b[39;00m \u001b[38;5;28;01mas\u001b[39;00m \u001b[38;5;21;01mnp\u001b[39;00m\n\u001b[0;32m      3\u001b[0m arr \u001b[38;5;241m=\u001b[39m np\u001b[38;5;241m.\u001b[39marray([\u001b[38;5;241m1\u001b[39m, \u001b[38;5;241m2\u001b[39m, \u001b[38;5;241m3\u001b[39m])\n\u001b[0;32m      5\u001b[0m \u001b[38;5;28mprint\u001b[39m(arr)\n",
      "\u001b[1;31mModuleNotFoundError\u001b[0m: No module named 'nompy'"
     ]
    }
   ],
   "source": [
    "import nompy as np\n",
    "\n",
    "arr = np.array([1, 2, 3])\n",
    "\n",
    "print(arr)"
   ]
  },
  {
   "cell_type": "code",
   "execution_count": 13,
   "id": "6e938360",
   "metadata": {},
   "outputs": [
    {
     "name": "stdout",
     "output_type": "stream",
     "text": [
      "Module Not Found Error: No module named 'non_existent_module'\n"
     ]
    }
   ],
   "source": [
    "try:\n",
    "    import non_existent_module\n",
    "except ModuleNotFoundError as e:\n",
    "    print(\"Module Not Found Error:\", e)"
   ]
  },
  {
   "cell_type": "code",
   "execution_count": null,
   "id": "42b2c88e",
   "metadata": {},
   "outputs": [],
   "source": [
    "Here is an example of MODULENOTFOUNDERROR."
   ]
  },
  {
   "cell_type": "code",
   "execution_count": 17,
   "id": "070d2b8d",
   "metadata": {},
   "outputs": [
    {
     "ename": "ModuleNotFoundError",
     "evalue": "No module named 'pwskills'",
     "output_type": "error",
     "traceback": [
      "\u001b[1;31m---------------------------------------------------------------------------\u001b[0m",
      "\u001b[1;31mModuleNotFoundError\u001b[0m                       Traceback (most recent call last)",
      "Cell \u001b[1;32mIn[17], line 1\u001b[0m\n\u001b[1;32m----> 1\u001b[0m \u001b[38;5;28;01mimport\u001b[39;00m \u001b[38;5;21;01mpwskills\u001b[39;00m \u001b[38;5;28;01mas\u001b[39;00m \u001b[38;5;21;01mpw\u001b[39;00m\n\u001b[0;32m      2\u001b[0m stud \u001b[38;5;241m=\u001b[39m np\u001b[38;5;241m.\u001b[39marray([\u001b[38;5;241m1\u001b[39m, \u001b[38;5;241m2\u001b[39m, \u001b[38;5;241m3\u001b[39m])\n\u001b[0;32m      4\u001b[0m \u001b[38;5;28mprint\u001b[39m(stud)\n",
      "\u001b[1;31mModuleNotFoundError\u001b[0m: No module named 'pwskills'"
     ]
    }
   ],
   "source": [
    "import pwskills as pw\n",
    "stud = np.array([1, 2, 3])\n",
    "\n",
    "print(stud)"
   ]
  },
  {
   "cell_type": "code",
   "execution_count": null,
   "id": "b0067beb",
   "metadata": {},
   "outputs": [],
   "source": []
  },
  {
   "cell_type": "markdown",
   "id": "49b55575",
   "metadata": {},
   "source": [
    "## `Q6. List down some best practices for exception handling in python.`"
   ]
  },
  {
   "cell_type": "markdown",
   "id": "fab1edda",
   "metadata": {},
   "source": [
    "\n",
    "SyntaxError: This exception is raised when the interpreter encounters a syntax error in the code, such as a misspelled keyword, a missing colon, or an unbalanced parenthesis.\n",
    "    \n",
    "TypeError: This exception is raised when an operation or function is applied to an object of the wrong type, such as adding a string to an integer.\n",
    "    \n",
    "    \n",
    "NameError: This exception is raised when a variable or function name is not found in the current scope.\n",
    "    \n",
    "IndexError: This exception is raised when an index is out of range for a list, tuple, or other sequence types.\n",
    "    \n",
    "KeyError: This exception is raised when a key is not found in a dictionary.\n",
    "    \n",
    "ValueError: This exception is raised when a function or method is called with an invalid argument or input, such as trying to convert a string to an integer when the string does not represent a valid integer.\n",
    "    \n",
    "AttributeError: This exception is raised when an attribute or method is not found on an object, such as trying to access a non-existent attribute of a class instance.\n",
    "    \n",
    "ZeroDivisionError: This exception is raised when an attempt is made to divide a number by zero.\n",
    "    \n",
    "ImportError:This exception is raised when an import statement fails to find or load a module.\n",
    "    \n",
    "    \n",
    "\n",
    "\n",
    "# `This Exception handler use to handling any types of error.`"
   ]
  },
  {
   "cell_type": "code",
   "execution_count": null,
   "id": "e2bdac85",
   "metadata": {},
   "outputs": [],
   "source": []
  }
 ],
 "metadata": {
  "kernelspec": {
   "display_name": "Python 3 (ipykernel)",
   "language": "python",
   "name": "python3"
  },
  "language_info": {
   "codemirror_mode": {
    "name": "ipython",
    "version": 3
   },
   "file_extension": ".py",
   "mimetype": "text/x-python",
   "name": "python",
   "nbconvert_exporter": "python",
   "pygments_lexer": "ipython3",
   "version": "3.9.12"
  }
 },
 "nbformat": 4,
 "nbformat_minor": 5
}
